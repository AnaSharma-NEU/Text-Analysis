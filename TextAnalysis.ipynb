{
  "cells": [
    {
      "cell_type": "markdown",
      "id": "d17a1cbe",
      "metadata": {
        "id": "d17a1cbe"
      },
      "source": [
        "<h1> Import the Libraries</h1>"
      ]
    },
    {
      "cell_type": "code",
      "execution_count": 1,
      "id": "b4eb66eb",
      "metadata": {
        "id": "b4eb66eb"
      },
      "outputs": [],
      "source": [
        "import numpy as np\n",
        "import pandas as pd\n",
        "import matplotlib.pyplot as plt\n",
        "import seaborn as sns\n"
      ]
    },
    {
      "cell_type": "code",
      "source": [
        "from google.colab import drive\n",
        "drive.mount('/content/drive')"
      ],
      "metadata": {
        "colab": {
          "base_uri": "https://localhost:8080/"
        },
        "id": "eBEhJS36WM__",
        "outputId": "4eaf7adb-e99b-44f6-fdbc-09dbf38d0cc3"
      },
      "id": "eBEhJS36WM__",
      "execution_count": 2,
      "outputs": [
        {
          "output_type": "stream",
          "name": "stdout",
          "text": [
            "Drive already mounted at /content/drive; to attempt to forcibly remount, call drive.mount(\"/content/drive\", force_remount=True).\n"
          ]
        }
      ]
    },
    {
      "cell_type": "code",
      "execution_count": 3,
      "id": "3e150934",
      "metadata": {
        "id": "3e150934"
      },
      "outputs": [],
      "source": [
        "# Read the file\n",
        "letter_analysis=pd.read_csv(\"/content/drive/MyDrive/letters.csv\")"
      ]
    },
    {
      "cell_type": "code",
      "execution_count": 4,
      "id": "6f035f24",
      "metadata": {
        "colab": {
          "base_uri": "https://localhost:8080/",
          "height": 456
        },
        "id": "6f035f24",
        "outputId": "de7d6e9d-06e8-4545-a10f-7acf2c3508e5"
      },
      "outputs": [
        {
          "output_type": "execute_result",
          "data": {
            "text/plain": [
              "   label  pixel43  pixel44  pixel92  pixel124  pixel125  pixel126  pixel127  \\\n",
              "0      1        0        0        0         0         0         0         0   \n",
              "1      0        0        0        0       137       137       192        86   \n",
              "2      1        0        0        0         3       141       139         3   \n",
              "3      4        0        0        0         0         0         0         0   \n",
              "4      0        0        0        0       155       254       254       254   \n",
              "5      0        0        0        0         3       141       202       254   \n",
              "6      7        0        0        0         0         0         0         0   \n",
              "7      3        0        0        0         0         0         0         0   \n",
              "8      5        0        0        0         0         0         0         0   \n",
              "9      3        0        0        0       254       255       199       111   \n",
              "\n",
              "   pixel128  pixel129  ...  pixel329  pixel351  pixel410  pixel411  pixel412  \\\n",
              "0         0         0  ...         0       254         0         0         0   \n",
              "1        72         1  ...       254         0         0        75       254   \n",
              "2         0         0  ...         0       184         0         0         0   \n",
              "3         0         0  ...         0         0        94       255        69   \n",
              "4       157        30  ...       253         0         0         0       223   \n",
              "5       193        44  ...         0         0       255       123         0   \n",
              "6         0         0  ...         0        51         0         0         0   \n",
              "7         0         0  ...        15       218         0         0         0   \n",
              "8         0         0  ...         0       235       253       229        23   \n",
              "9        18         9  ...         0       253       122       253       253   \n",
              "\n",
              "   pixel413  pixel414  pixel415  pixel416  pixel417  \n",
              "0         0         0         0         0         0  \n",
              "1       254       254        17         0         0  \n",
              "2         0         0         0         0         0  \n",
              "3         0         0         0         0         0  \n",
              "4       253       253       253       129         0  \n",
              "5         0         0         0         0         0  \n",
              "6         0         0         0         0         0  \n",
              "7         0         0         0         0         0  \n",
              "8         0         0         0         0         0  \n",
              "9       170         0         0         0         0  \n",
              "\n",
              "[10 rows x 46 columns]"
            ],
            "text/html": [
              "\n",
              "  <div id=\"df-0b804fdb-0225-4819-882e-741f89196b25\">\n",
              "    <div class=\"colab-df-container\">\n",
              "      <div>\n",
              "<style scoped>\n",
              "    .dataframe tbody tr th:only-of-type {\n",
              "        vertical-align: middle;\n",
              "    }\n",
              "\n",
              "    .dataframe tbody tr th {\n",
              "        vertical-align: top;\n",
              "    }\n",
              "\n",
              "    .dataframe thead th {\n",
              "        text-align: right;\n",
              "    }\n",
              "</style>\n",
              "<table border=\"1\" class=\"dataframe\">\n",
              "  <thead>\n",
              "    <tr style=\"text-align: right;\">\n",
              "      <th></th>\n",
              "      <th>label</th>\n",
              "      <th>pixel43</th>\n",
              "      <th>pixel44</th>\n",
              "      <th>pixel92</th>\n",
              "      <th>pixel124</th>\n",
              "      <th>pixel125</th>\n",
              "      <th>pixel126</th>\n",
              "      <th>pixel127</th>\n",
              "      <th>pixel128</th>\n",
              "      <th>pixel129</th>\n",
              "      <th>...</th>\n",
              "      <th>pixel329</th>\n",
              "      <th>pixel351</th>\n",
              "      <th>pixel410</th>\n",
              "      <th>pixel411</th>\n",
              "      <th>pixel412</th>\n",
              "      <th>pixel413</th>\n",
              "      <th>pixel414</th>\n",
              "      <th>pixel415</th>\n",
              "      <th>pixel416</th>\n",
              "      <th>pixel417</th>\n",
              "    </tr>\n",
              "  </thead>\n",
              "  <tbody>\n",
              "    <tr>\n",
              "      <th>0</th>\n",
              "      <td>1</td>\n",
              "      <td>0</td>\n",
              "      <td>0</td>\n",
              "      <td>0</td>\n",
              "      <td>0</td>\n",
              "      <td>0</td>\n",
              "      <td>0</td>\n",
              "      <td>0</td>\n",
              "      <td>0</td>\n",
              "      <td>0</td>\n",
              "      <td>...</td>\n",
              "      <td>0</td>\n",
              "      <td>254</td>\n",
              "      <td>0</td>\n",
              "      <td>0</td>\n",
              "      <td>0</td>\n",
              "      <td>0</td>\n",
              "      <td>0</td>\n",
              "      <td>0</td>\n",
              "      <td>0</td>\n",
              "      <td>0</td>\n",
              "    </tr>\n",
              "    <tr>\n",
              "      <th>1</th>\n",
              "      <td>0</td>\n",
              "      <td>0</td>\n",
              "      <td>0</td>\n",
              "      <td>0</td>\n",
              "      <td>137</td>\n",
              "      <td>137</td>\n",
              "      <td>192</td>\n",
              "      <td>86</td>\n",
              "      <td>72</td>\n",
              "      <td>1</td>\n",
              "      <td>...</td>\n",
              "      <td>254</td>\n",
              "      <td>0</td>\n",
              "      <td>0</td>\n",
              "      <td>75</td>\n",
              "      <td>254</td>\n",
              "      <td>254</td>\n",
              "      <td>254</td>\n",
              "      <td>17</td>\n",
              "      <td>0</td>\n",
              "      <td>0</td>\n",
              "    </tr>\n",
              "    <tr>\n",
              "      <th>2</th>\n",
              "      <td>1</td>\n",
              "      <td>0</td>\n",
              "      <td>0</td>\n",
              "      <td>0</td>\n",
              "      <td>3</td>\n",
              "      <td>141</td>\n",
              "      <td>139</td>\n",
              "      <td>3</td>\n",
              "      <td>0</td>\n",
              "      <td>0</td>\n",
              "      <td>...</td>\n",
              "      <td>0</td>\n",
              "      <td>184</td>\n",
              "      <td>0</td>\n",
              "      <td>0</td>\n",
              "      <td>0</td>\n",
              "      <td>0</td>\n",
              "      <td>0</td>\n",
              "      <td>0</td>\n",
              "      <td>0</td>\n",
              "      <td>0</td>\n",
              "    </tr>\n",
              "    <tr>\n",
              "      <th>3</th>\n",
              "      <td>4</td>\n",
              "      <td>0</td>\n",
              "      <td>0</td>\n",
              "      <td>0</td>\n",
              "      <td>0</td>\n",
              "      <td>0</td>\n",
              "      <td>0</td>\n",
              "      <td>0</td>\n",
              "      <td>0</td>\n",
              "      <td>0</td>\n",
              "      <td>...</td>\n",
              "      <td>0</td>\n",
              "      <td>0</td>\n",
              "      <td>94</td>\n",
              "      <td>255</td>\n",
              "      <td>69</td>\n",
              "      <td>0</td>\n",
              "      <td>0</td>\n",
              "      <td>0</td>\n",
              "      <td>0</td>\n",
              "      <td>0</td>\n",
              "    </tr>\n",
              "    <tr>\n",
              "      <th>4</th>\n",
              "      <td>0</td>\n",
              "      <td>0</td>\n",
              "      <td>0</td>\n",
              "      <td>0</td>\n",
              "      <td>155</td>\n",
              "      <td>254</td>\n",
              "      <td>254</td>\n",
              "      <td>254</td>\n",
              "      <td>157</td>\n",
              "      <td>30</td>\n",
              "      <td>...</td>\n",
              "      <td>253</td>\n",
              "      <td>0</td>\n",
              "      <td>0</td>\n",
              "      <td>0</td>\n",
              "      <td>223</td>\n",
              "      <td>253</td>\n",
              "      <td>253</td>\n",
              "      <td>253</td>\n",
              "      <td>129</td>\n",
              "      <td>0</td>\n",
              "    </tr>\n",
              "    <tr>\n",
              "      <th>5</th>\n",
              "      <td>0</td>\n",
              "      <td>0</td>\n",
              "      <td>0</td>\n",
              "      <td>0</td>\n",
              "      <td>3</td>\n",
              "      <td>141</td>\n",
              "      <td>202</td>\n",
              "      <td>254</td>\n",
              "      <td>193</td>\n",
              "      <td>44</td>\n",
              "      <td>...</td>\n",
              "      <td>0</td>\n",
              "      <td>0</td>\n",
              "      <td>255</td>\n",
              "      <td>123</td>\n",
              "      <td>0</td>\n",
              "      <td>0</td>\n",
              "      <td>0</td>\n",
              "      <td>0</td>\n",
              "      <td>0</td>\n",
              "      <td>0</td>\n",
              "    </tr>\n",
              "    <tr>\n",
              "      <th>6</th>\n",
              "      <td>7</td>\n",
              "      <td>0</td>\n",
              "      <td>0</td>\n",
              "      <td>0</td>\n",
              "      <td>0</td>\n",
              "      <td>0</td>\n",
              "      <td>0</td>\n",
              "      <td>0</td>\n",
              "      <td>0</td>\n",
              "      <td>0</td>\n",
              "      <td>...</td>\n",
              "      <td>0</td>\n",
              "      <td>51</td>\n",
              "      <td>0</td>\n",
              "      <td>0</td>\n",
              "      <td>0</td>\n",
              "      <td>0</td>\n",
              "      <td>0</td>\n",
              "      <td>0</td>\n",
              "      <td>0</td>\n",
              "      <td>0</td>\n",
              "    </tr>\n",
              "    <tr>\n",
              "      <th>7</th>\n",
              "      <td>3</td>\n",
              "      <td>0</td>\n",
              "      <td>0</td>\n",
              "      <td>0</td>\n",
              "      <td>0</td>\n",
              "      <td>0</td>\n",
              "      <td>0</td>\n",
              "      <td>0</td>\n",
              "      <td>0</td>\n",
              "      <td>0</td>\n",
              "      <td>...</td>\n",
              "      <td>15</td>\n",
              "      <td>218</td>\n",
              "      <td>0</td>\n",
              "      <td>0</td>\n",
              "      <td>0</td>\n",
              "      <td>0</td>\n",
              "      <td>0</td>\n",
              "      <td>0</td>\n",
              "      <td>0</td>\n",
              "      <td>0</td>\n",
              "    </tr>\n",
              "    <tr>\n",
              "      <th>8</th>\n",
              "      <td>5</td>\n",
              "      <td>0</td>\n",
              "      <td>0</td>\n",
              "      <td>0</td>\n",
              "      <td>0</td>\n",
              "      <td>0</td>\n",
              "      <td>0</td>\n",
              "      <td>0</td>\n",
              "      <td>0</td>\n",
              "      <td>0</td>\n",
              "      <td>...</td>\n",
              "      <td>0</td>\n",
              "      <td>235</td>\n",
              "      <td>253</td>\n",
              "      <td>229</td>\n",
              "      <td>23</td>\n",
              "      <td>0</td>\n",
              "      <td>0</td>\n",
              "      <td>0</td>\n",
              "      <td>0</td>\n",
              "      <td>0</td>\n",
              "    </tr>\n",
              "    <tr>\n",
              "      <th>9</th>\n",
              "      <td>3</td>\n",
              "      <td>0</td>\n",
              "      <td>0</td>\n",
              "      <td>0</td>\n",
              "      <td>254</td>\n",
              "      <td>255</td>\n",
              "      <td>199</td>\n",
              "      <td>111</td>\n",
              "      <td>18</td>\n",
              "      <td>9</td>\n",
              "      <td>...</td>\n",
              "      <td>0</td>\n",
              "      <td>253</td>\n",
              "      <td>122</td>\n",
              "      <td>253</td>\n",
              "      <td>253</td>\n",
              "      <td>170</td>\n",
              "      <td>0</td>\n",
              "      <td>0</td>\n",
              "      <td>0</td>\n",
              "      <td>0</td>\n",
              "    </tr>\n",
              "  </tbody>\n",
              "</table>\n",
              "<p>10 rows × 46 columns</p>\n",
              "</div>\n",
              "      <button class=\"colab-df-convert\" onclick=\"convertToInteractive('df-0b804fdb-0225-4819-882e-741f89196b25')\"\n",
              "              title=\"Convert this dataframe to an interactive table.\"\n",
              "              style=\"display:none;\">\n",
              "        \n",
              "  <svg xmlns=\"http://www.w3.org/2000/svg\" height=\"24px\"viewBox=\"0 0 24 24\"\n",
              "       width=\"24px\">\n",
              "    <path d=\"M0 0h24v24H0V0z\" fill=\"none\"/>\n",
              "    <path d=\"M18.56 5.44l.94 2.06.94-2.06 2.06-.94-2.06-.94-.94-2.06-.94 2.06-2.06.94zm-11 1L8.5 8.5l.94-2.06 2.06-.94-2.06-.94L8.5 2.5l-.94 2.06-2.06.94zm10 10l.94 2.06.94-2.06 2.06-.94-2.06-.94-.94-2.06-.94 2.06-2.06.94z\"/><path d=\"M17.41 7.96l-1.37-1.37c-.4-.4-.92-.59-1.43-.59-.52 0-1.04.2-1.43.59L10.3 9.45l-7.72 7.72c-.78.78-.78 2.05 0 2.83L4 21.41c.39.39.9.59 1.41.59.51 0 1.02-.2 1.41-.59l7.78-7.78 2.81-2.81c.8-.78.8-2.07 0-2.86zM5.41 20L4 18.59l7.72-7.72 1.47 1.35L5.41 20z\"/>\n",
              "  </svg>\n",
              "      </button>\n",
              "      \n",
              "  <style>\n",
              "    .colab-df-container {\n",
              "      display:flex;\n",
              "      flex-wrap:wrap;\n",
              "      gap: 12px;\n",
              "    }\n",
              "\n",
              "    .colab-df-convert {\n",
              "      background-color: #E8F0FE;\n",
              "      border: none;\n",
              "      border-radius: 50%;\n",
              "      cursor: pointer;\n",
              "      display: none;\n",
              "      fill: #1967D2;\n",
              "      height: 32px;\n",
              "      padding: 0 0 0 0;\n",
              "      width: 32px;\n",
              "    }\n",
              "\n",
              "    .colab-df-convert:hover {\n",
              "      background-color: #E2EBFA;\n",
              "      box-shadow: 0px 1px 2px rgba(60, 64, 67, 0.3), 0px 1px 3px 1px rgba(60, 64, 67, 0.15);\n",
              "      fill: #174EA6;\n",
              "    }\n",
              "\n",
              "    [theme=dark] .colab-df-convert {\n",
              "      background-color: #3B4455;\n",
              "      fill: #D2E3FC;\n",
              "    }\n",
              "\n",
              "    [theme=dark] .colab-df-convert:hover {\n",
              "      background-color: #434B5C;\n",
              "      box-shadow: 0px 1px 3px 1px rgba(0, 0, 0, 0.15);\n",
              "      filter: drop-shadow(0px 1px 2px rgba(0, 0, 0, 0.3));\n",
              "      fill: #FFFFFF;\n",
              "    }\n",
              "  </style>\n",
              "\n",
              "      <script>\n",
              "        const buttonEl =\n",
              "          document.querySelector('#df-0b804fdb-0225-4819-882e-741f89196b25 button.colab-df-convert');\n",
              "        buttonEl.style.display =\n",
              "          google.colab.kernel.accessAllowed ? 'block' : 'none';\n",
              "\n",
              "        async function convertToInteractive(key) {\n",
              "          const element = document.querySelector('#df-0b804fdb-0225-4819-882e-741f89196b25');\n",
              "          const dataTable =\n",
              "            await google.colab.kernel.invokeFunction('convertToInteractive',\n",
              "                                                     [key], {});\n",
              "          if (!dataTable) return;\n",
              "\n",
              "          const docLinkHtml = 'Like what you see? Visit the ' +\n",
              "            '<a target=\"_blank\" href=https://colab.research.google.com/notebooks/data_table.ipynb>data table notebook</a>'\n",
              "            + ' to learn more about interactive tables.';\n",
              "          element.innerHTML = '';\n",
              "          dataTable['output_type'] = 'display_data';\n",
              "          await google.colab.output.renderOutput(dataTable, element);\n",
              "          const docLink = document.createElement('div');\n",
              "          docLink.innerHTML = docLinkHtml;\n",
              "          element.appendChild(docLink);\n",
              "        }\n",
              "      </script>\n",
              "    </div>\n",
              "  </div>\n",
              "  "
            ]
          },
          "metadata": {},
          "execution_count": 4
        }
      ],
      "source": [
        "letter_analysis.head(n=10)"
      ]
    },
    {
      "cell_type": "code",
      "execution_count": 5,
      "id": "3cb5624f",
      "metadata": {
        "colab": {
          "base_uri": "https://localhost:8080/"
        },
        "id": "3cb5624f",
        "outputId": "282b9998-0bc4-4f4e-efc2-043787c8ae67"
      },
      "outputs": [
        {
          "output_type": "execute_result",
          "data": {
            "text/plain": [
              "0        False\n",
              "1        False\n",
              "2        False\n",
              "3        False\n",
              "4        False\n",
              "         ...  \n",
              "41995    False\n",
              "41996    False\n",
              "41997    False\n",
              "41998    False\n",
              "41999    False\n",
              "Length: 42000, dtype: bool"
            ]
          },
          "metadata": {},
          "execution_count": 5
        }
      ],
      "source": [
        "#The dataframe does not have any duplicates\n",
        "letter_analysis.duplicated()"
      ]
    },
    {
      "cell_type": "code",
      "execution_count": 6,
      "id": "95068f2f",
      "metadata": {
        "colab": {
          "base_uri": "https://localhost:8080/"
        },
        "id": "95068f2f",
        "outputId": "14783a9b-62c4-453f-ef4e-ce1639fe67da"
      },
      "outputs": [
        {
          "output_type": "execute_result",
          "data": {
            "text/plain": [
              "Index(['label', 'pixel43', 'pixel44', 'pixel92', 'pixel124', 'pixel125',\n",
              "       'pixel126', 'pixel127', 'pixel128', 'pixel129', 'pixel130', 'pixel131',\n",
              "       'pixel132', 'pixel133', 'pixel134', 'pixel135', 'pixel136', 'pixel137',\n",
              "       'pixel138', 'pixel146', 'pixel147', 'pixel148', 'pixel149', 'pixel150',\n",
              "       'pixel151', 'pixel152', 'pixel153', 'pixel154', 'pixel155', 'pixel156',\n",
              "       'pixel157', 'pixel158', 'pixel159', 'pixel160', 'pixel327', 'pixel328',\n",
              "       'pixel329', 'pixel351', 'pixel410', 'pixel411', 'pixel412', 'pixel413',\n",
              "       'pixel414', 'pixel415', 'pixel416', 'pixel417'],\n",
              "      dtype='object')"
            ]
          },
          "metadata": {},
          "execution_count": 6
        }
      ],
      "source": [
        "#Columns \n",
        "letter_analysis.columns"
      ]
    },
    {
      "cell_type": "markdown",
      "id": "19632b57",
      "metadata": {
        "id": "19632b57"
      },
      "source": [
        "<h1> Checking for Null Values </h1>"
      ]
    },
    {
      "cell_type": "code",
      "execution_count": 7,
      "id": "042dc52e",
      "metadata": {
        "colab": {
          "base_uri": "https://localhost:8080/"
        },
        "id": "042dc52e",
        "outputId": "d9fe45a0-6040-493f-facd-ea5ae5761a5d"
      },
      "outputs": [
        {
          "output_type": "execute_result",
          "data": {
            "text/plain": [
              "label       0\n",
              "pixel43     0\n",
              "pixel44     0\n",
              "pixel92     0\n",
              "pixel124    0\n",
              "pixel125    0\n",
              "pixel126    0\n",
              "pixel127    0\n",
              "pixel128    0\n",
              "pixel129    0\n",
              "pixel130    0\n",
              "pixel131    0\n",
              "pixel132    0\n",
              "pixel133    0\n",
              "pixel134    0\n",
              "pixel135    0\n",
              "pixel136    0\n",
              "pixel137    0\n",
              "pixel138    0\n",
              "pixel146    0\n",
              "pixel147    0\n",
              "pixel148    0\n",
              "pixel149    0\n",
              "pixel150    0\n",
              "pixel151    0\n",
              "pixel152    0\n",
              "pixel153    0\n",
              "pixel154    0\n",
              "pixel155    0\n",
              "pixel156    0\n",
              "pixel157    0\n",
              "pixel158    0\n",
              "pixel159    0\n",
              "pixel160    0\n",
              "pixel327    0\n",
              "pixel328    0\n",
              "pixel329    0\n",
              "pixel351    0\n",
              "pixel410    0\n",
              "pixel411    0\n",
              "pixel412    0\n",
              "pixel413    0\n",
              "pixel414    0\n",
              "pixel415    0\n",
              "pixel416    0\n",
              "pixel417    0\n",
              "dtype: int64"
            ]
          },
          "metadata": {},
          "execution_count": 7
        }
      ],
      "source": [
        "#Checking for the null values\n",
        "letter_analysis.isnull().sum()\n",
        "\n",
        "#there are not many nukll values "
      ]
    },
    {
      "cell_type": "markdown",
      "id": "f62c7b41",
      "metadata": {
        "id": "f62c7b41"
      },
      "source": [
        "<h1> Checking the Dimension </h1>"
      ]
    },
    {
      "cell_type": "code",
      "execution_count": 8,
      "id": "3665fda0",
      "metadata": {
        "colab": {
          "base_uri": "https://localhost:8080/"
        },
        "id": "3665fda0",
        "outputId": "3aba20d0-fd2d-4410-d902-a1a4a5be08a0"
      },
      "outputs": [
        {
          "output_type": "execute_result",
          "data": {
            "text/plain": [
              "(42000, 46)"
            ]
          },
          "metadata": {},
          "execution_count": 8
        }
      ],
      "source": [
        "#Checking the Dimensions of the Data Set\n",
        "\n",
        "letter_analysis.shape\n"
      ]
    },
    {
      "cell_type": "code",
      "execution_count": 9,
      "id": "1d9082c0",
      "metadata": {
        "scrolled": true,
        "id": "1d9082c0"
      },
      "outputs": [],
      "source": [
        "from sklearn import datasets, neighbors\n",
        "from sklearn.metrics import classification_report, confusion_matrix\n",
        "from sklearn.model_selection import train_test_split\n",
        "from sklearn.preprocessing import StandardScaler\n",
        "from keras.datasets import mnist\n",
        "import matplotlib.pyplot as plt\n",
        "import numpy as np\n",
        "from random import randint\n",
        "import time"
      ]
    },
    {
      "cell_type": "code",
      "execution_count": 10,
      "id": "11b792e5",
      "metadata": {
        "id": "11b792e5"
      },
      "outputs": [],
      "source": [
        "from keras import models\n",
        "from keras import layers\n",
        "from keras.utils import to_categorical"
      ]
    },
    {
      "cell_type": "code",
      "execution_count": 11,
      "id": "31622b1a",
      "metadata": {
        "scrolled": true,
        "id": "31622b1a"
      },
      "outputs": [],
      "source": [
        "\n",
        "np.random.seed(1212)\n",
        "\n",
        "import keras\n",
        "from keras.models import Model\n",
        "from keras.layers import *\n",
        "from keras import optimizers"
      ]
    },
    {
      "cell_type": "code",
      "execution_count": 12,
      "id": "f5cef497",
      "metadata": {
        "id": "f5cef497"
      },
      "outputs": [],
      "source": [
        "import tensorflow as tf\n",
        "from tensorflow.keras import layers"
      ]
    },
    {
      "cell_type": "code",
      "execution_count": 14,
      "id": "bf4e9197",
      "metadata": {
        "colab": {
          "base_uri": "https://localhost:8080/"
        },
        "id": "bf4e9197",
        "outputId": "b8266306-7e2c-4822-a286-c582994fa7ca"
      },
      "outputs": [
        {
          "output_type": "execute_result",
          "data": {
            "text/plain": [
              "1    4684\n",
              "7    4401\n",
              "3    4351\n",
              "9    4188\n",
              "2    4177\n",
              "6    4137\n",
              "0    4132\n",
              "4    4072\n",
              "8    4063\n",
              "5    3795\n",
              "Name: label, dtype: int64"
            ]
          },
          "metadata": {},
          "execution_count": 14
        }
      ],
      "source": [
        "#We are doing the value count of the label\n",
        "letter_analysis['label'].value_counts()"
      ]
    },
    {
      "cell_type": "code",
      "source": [
        "X = letter_analysis.drop(columns = ['label'], axis = 1)\n",
        "y = letter_analysis['label']"
      ],
      "metadata": {
        "id": "vHmLPEUxW7mc"
      },
      "id": "vHmLPEUxW7mc",
      "execution_count": 15,
      "outputs": []
    },
    {
      "cell_type": "code",
      "source": [
        "X_train,X_test,y_train,y_test = train_test_split(X,y,train_size = 0.8, random_state = 12)"
      ],
      "metadata": {
        "id": "6l7P96BgW7Y4"
      },
      "id": "6l7P96BgW7Y4",
      "execution_count": 16,
      "outputs": []
    },
    {
      "cell_type": "code",
      "execution_count": 17,
      "id": "e74f5f61",
      "metadata": {
        "colab": {
          "base_uri": "https://localhost:8080/"
        },
        "id": "e74f5f61",
        "outputId": "bfc0478f-75b8-4d26-a04a-69d0ee6c4c7c"
      },
      "outputs": [
        {
          "output_type": "execute_result",
          "data": {
            "text/plain": [
              "5441     8\n",
              "8092     5\n",
              "19896    1\n",
              "3329     4\n",
              "1133     5\n",
              "        ..\n",
              "36482    9\n",
              "40177    5\n",
              "19709    4\n",
              "38555    1\n",
              "14155    2\n",
              "Name: label, Length: 33600, dtype: int64"
            ]
          },
          "metadata": {},
          "execution_count": 17
        }
      ],
      "source": [
        "y_train"
      ]
    },
    {
      "cell_type": "markdown",
      "id": "6b159ec0",
      "metadata": {
        "id": "6b159ec0"
      },
      "source": [
        "<h1> Understanding the Dimension </h1>"
      ]
    },
    {
      "cell_type": "code",
      "execution_count": 18,
      "id": "d00935ec",
      "metadata": {
        "colab": {
          "base_uri": "https://localhost:8080/"
        },
        "id": "d00935ec",
        "outputId": "d2baf29f-85d2-4292-fba1-c4339b121fb4"
      },
      "outputs": [
        {
          "output_type": "execute_result",
          "data": {
            "text/plain": [
              "((33600, 45), (8400, 45))"
            ]
          },
          "metadata": {},
          "execution_count": 18
        }
      ],
      "source": [
        "X_train.shape,X_test.shape"
      ]
    },
    {
      "cell_type": "code",
      "source": [
        "y_train.shape,y_test.shape"
      ],
      "metadata": {
        "colab": {
          "base_uri": "https://localhost:8080/"
        },
        "id": "TkZ1aiwpEe-y",
        "outputId": "a4540912-ba8e-4d64-d614-f3dd5497146c"
      },
      "id": "TkZ1aiwpEe-y",
      "execution_count": 19,
      "outputs": [
        {
          "output_type": "execute_result",
          "data": {
            "text/plain": [
              "((33600,), (8400,))"
            ]
          },
          "metadata": {},
          "execution_count": 19
        }
      ]
    },
    {
      "cell_type": "markdown",
      "id": "68eed5d4",
      "metadata": {
        "id": "68eed5d4"
      },
      "source": [
        "<h1> Inserting the Random Forest Classifier </h1>"
      ]
    },
    {
      "cell_type": "code",
      "execution_count": 20,
      "id": "a54094da",
      "metadata": {
        "colab": {
          "base_uri": "https://localhost:8080/"
        },
        "id": "a54094da",
        "outputId": "f277298f-6bf4-47d5-9071-2e2f7f6755e9"
      },
      "outputs": [
        {
          "output_type": "execute_result",
          "data": {
            "text/plain": [
              "RandomForestClassifier(criterion='entropy', n_estimators=245, random_state=0)"
            ]
          },
          "metadata": {},
          "execution_count": 20
        }
      ],
      "source": [
        "from sklearn.ensemble import RandomForestClassifier\n",
        "rfc=RandomForestClassifier(n_estimators=245,criterion='entropy',random_state=0,min_samples_split=2)\n",
        "\n",
        "rfc.fit(X_train,y_train)"
      ]
    },
    {
      "cell_type": "code",
      "execution_count": 21,
      "id": "c72a39ed",
      "metadata": {
        "colab": {
          "base_uri": "https://localhost:8080/"
        },
        "id": "c72a39ed",
        "outputId": "059c460d-96b8-4a42-e04d-cea1ce29b444"
      },
      "outputs": [
        {
          "output_type": "stream",
          "name": "stdout",
          "text": [
            "Accuracy is : 69.69047619047619\n"
          ]
        }
      ],
      "source": [
        "y_pred=rfc.predict(X_test)\n",
        "\n",
        "from sklearn.metrics import accuracy_score\n",
        "ac= accuracy_score(y_test,y_pred)\n",
        "print('Accuracy is :',ac*100)"
      ]
    },
    {
      "cell_type": "markdown",
      "id": "275dd88b",
      "metadata": {
        "id": "275dd88b"
      },
      "source": [
        "<h1> KNN Model </h1>"
      ]
    },
    {
      "cell_type": "code",
      "execution_count": 22,
      "id": "efb9ac03",
      "metadata": {
        "id": "efb9ac03",
        "colab": {
          "base_uri": "https://localhost:8080/"
        },
        "outputId": "919d1183-b5b4-4d22-9743-e0f7a240de60"
      },
      "outputs": [
        {
          "output_type": "stream",
          "name": "stdout",
          "text": [
            "Accuracy is : 60.023809523809526\n"
          ]
        }
      ],
      "source": [
        "from sklearn.neighbors import KNeighborsClassifier\n",
        "knn = KNeighborsClassifier(algorithm='brute',n_neighbors =1 ,leaf_size=100,p=30)\n",
        "knn.fit(X_train, y_train)\n",
        "\n",
        "knn_predictions = knn.predict(X_test) \n",
        "\n",
        "acc=accuracy_score(y_test,knn_predictions)\n",
        "print('Accuracy is :',acc*100)"
      ]
    },
    {
      "cell_type": "markdown",
      "id": "75a42aca",
      "metadata": {
        "id": "75a42aca"
      },
      "source": [
        "<h1> XGBoost Model </h1>\n"
      ]
    },
    {
      "cell_type": "code",
      "execution_count": 23,
      "id": "d1efb96e",
      "metadata": {
        "id": "d1efb96e",
        "colab": {
          "base_uri": "https://localhost:8080/"
        },
        "outputId": "f610bf12-54e5-442b-92a1-f13109d3047e"
      },
      "outputs": [
        {
          "output_type": "stream",
          "name": "stdout",
          "text": [
            "Accuracy: 70.55%\n"
          ]
        }
      ],
      "source": [
        "from xgboost import XGBClassifier\n",
        "model = XGBClassifier(learning_rate=1.0)\n",
        "\n",
        "model.fit(X_train, y_train)\n",
        "\n",
        "y_pred = model.predict(X_test)\n",
        "\n",
        "accuracy = accuracy_score(y_test, y_pred)\n",
        "print(\"Accuracy: %.2f%%\" % (accuracy * 100.0))"
      ]
    },
    {
      "cell_type": "markdown",
      "id": "e7080f9b",
      "metadata": {
        "id": "e7080f9b"
      },
      "source": [
        "<h1> Support Vector Machine</h1>"
      ]
    },
    {
      "cell_type": "code",
      "execution_count": 24,
      "id": "6b86623d",
      "metadata": {
        "id": "6b86623d"
      },
      "outputs": [],
      "source": [
        "from sklearn.svm import SVC\n",
        "model = SVC(kernel='rbf', C=1E01,tol=0.1)\n",
        "model.fit(X_train, y_train)\n",
        "predicted= model.predict(X_test)"
      ]
    },
    {
      "cell_type": "code",
      "execution_count": 25,
      "id": "93c36c76",
      "metadata": {
        "id": "93c36c76",
        "outputId": "63d0552e-6e30-42be-e85f-061b079f1b69",
        "colab": {
          "base_uri": "https://localhost:8080/"
        }
      },
      "outputs": [
        {
          "output_type": "stream",
          "name": "stdout",
          "text": [
            "Accuracy: 70.17%\n"
          ]
        }
      ],
      "source": [
        "from sklearn.metrics import confusion_matrix,accuracy_score\n",
        "accuracy = accuracy_score(y_test, predicted)\n",
        "print(\"Accuracy: %.2f%%\" % (accuracy * 100.0))#97.28"
      ]
    },
    {
      "cell_type": "code",
      "execution_count": 26,
      "id": "1a5c27df",
      "metadata": {
        "id": "1a5c27df"
      },
      "outputs": [],
      "source": [
        "# Feature Normalization \n",
        "X_train /= 255; X_test /= 255\n",
        "\n",
        "# Convert labels to One Hot Encoded\n",
        "num_digits = 10\n",
        "\n",
        "# Converting labels into one hot encoded values so that our model is able to train on it, for softmax it is required that we convert multiclass labels into their one-hot encoded form.\n",
        "y_train = keras.utils.to_categorical(y_train, num_digits)\n",
        "y_test = keras.utils.to_categorical(y_test, num_digits)"
      ]
    },
    {
      "cell_type": "code",
      "source": [
        "y_test"
      ],
      "metadata": {
        "colab": {
          "base_uri": "https://localhost:8080/"
        },
        "id": "iWirnzOklLct",
        "outputId": "8e698ebb-2673-492d-d0c8-657aefa808d5"
      },
      "id": "iWirnzOklLct",
      "execution_count": 27,
      "outputs": [
        {
          "output_type": "execute_result",
          "data": {
            "text/plain": [
              "array([[0., 0., 0., ..., 0., 0., 0.],\n",
              "       [0., 0., 0., ..., 1., 0., 0.],\n",
              "       [0., 0., 0., ..., 0., 0., 0.],\n",
              "       ...,\n",
              "       [0., 0., 0., ..., 1., 0., 0.],\n",
              "       [0., 1., 0., ..., 0., 0., 0.],\n",
              "       [0., 0., 0., ..., 0., 0., 0.]], dtype=float32)"
            ]
          },
          "metadata": {},
          "execution_count": 27
        }
      ]
    },
    {
      "cell_type": "code",
      "execution_count": 28,
      "id": "96c4af0c",
      "metadata": {
        "id": "96c4af0c"
      },
      "outputs": [],
      "source": [
        "# Input Parameters\n",
        "n_input = 45 # number of features\n",
        "n_hidden_1 = 300\n",
        "n_hidden_2 = 100\n",
        "n_hidden_3 = 100\n",
        "n_hidden_4 = 200\n",
        "num_digits = 10"
      ]
    },
    {
      "cell_type": "code",
      "execution_count": 29,
      "id": "2318706f",
      "metadata": {
        "id": "2318706f"
      },
      "outputs": [],
      "source": [
        "\n",
        "model = tf.keras.Sequential([\n",
        "  layers.Flatten(input_shape = (45,)),\n",
        "  layers.Dense(128, activation='relu'), \n",
        "  layers.Dense(128, activation='relu'),\n",
        "  layers.Dropout(.1),\n",
        "  layers.Dense(10, activation = 'softmax')\n",
        "])"
      ]
    },
    {
      "cell_type": "code",
      "execution_count": 30,
      "id": "44148450",
      "metadata": {
        "id": "44148450"
      },
      "outputs": [],
      "source": [
        "# Inp = Input(shape=(len(X_train.columns),))\n",
        "\n",
        "\n",
        "# x = Dense(n_hidden_1, activation='relu', name = \"Hidden_Layer_1\")(Inp)\n",
        "# x = Dense(n_hidden_2, activation='relu', name = \"Hidden_Layer_2\")(x)\n",
        "# x = Dense(n_hidden_3, activation='relu', name = \"Hidden_Layer_3\")(x)\n",
        "# x = Dense(n_hidden_4, activation='relu', name = \"Hidden_Layer_4\")(x)\n",
        "# output = Dense(num_digits, activation='softmax', name = \"Output_Layer\")(x)"
      ]
    },
    {
      "cell_type": "code",
      "execution_count": 31,
      "id": "eb305b2c",
      "metadata": {
        "colab": {
          "base_uri": "https://localhost:8080/"
        },
        "id": "eb305b2c",
        "outputId": "ce828520-d50f-4370-f8ca-42f9ba2a8535"
      },
      "outputs": [
        {
          "output_type": "stream",
          "name": "stdout",
          "text": [
            "Model: \"sequential\"\n",
            "_________________________________________________________________\n",
            " Layer (type)                Output Shape              Param #   \n",
            "=================================================================\n",
            " flatten (Flatten)           (None, 45)                0         \n",
            "                                                                 \n",
            " dense (Dense)               (None, 128)               5888      \n",
            "                                                                 \n",
            " dense_1 (Dense)             (None, 128)               16512     \n",
            "                                                                 \n",
            " dropout (Dropout)           (None, 128)               0         \n",
            "                                                                 \n",
            " dense_2 (Dense)             (None, 10)                1290      \n",
            "                                                                 \n",
            "=================================================================\n",
            "Total params: 23,690\n",
            "Trainable params: 23,690\n",
            "Non-trainable params: 0\n",
            "_________________________________________________________________\n"
          ]
        }
      ],
      "source": [
        "# Our model would have '6' layers - input layer, 4 hidden layer and 1 output layer\n",
        "\n",
        "model.summary() # We have 297,910 parameters to estimate"
      ]
    },
    {
      "cell_type": "code",
      "execution_count": 32,
      "id": "530ff0e5",
      "metadata": {
        "id": "530ff0e5"
      },
      "outputs": [],
      "source": [
        "# Insert Hyperparameters\n",
        "learning_rate = 0.1\n",
        "\n",
        "batch_size = 100\n",
        "sgd = optimizers.SGD(learning_rate)"
      ]
    },
    {
      "cell_type": "code",
      "execution_count": 33,
      "id": "03157557",
      "metadata": {
        "id": "03157557"
      },
      "outputs": [],
      "source": [
        "# We rely on the plain vanilla Stochastic Gradient Descent as our optimizing methodology\n",
        "model.compile(loss='categorical_crossentropy',\n",
        "              optimizer='sgd',\n",
        "              metrics=['accuracy'])"
      ]
    },
    {
      "cell_type": "code",
      "execution_count": 34,
      "id": "ff12b246",
      "metadata": {
        "colab": {
          "base_uri": "https://localhost:8080/"
        },
        "id": "ff12b246",
        "outputId": "e1ebdcfa-3800-4c80-f40a-905b41e9c907"
      },
      "outputs": [
        {
          "output_type": "stream",
          "name": "stdout",
          "text": [
            "Epoch 1/20\n",
            "525/525 - 2s - loss: 2.1158 - accuracy: 0.3240 - val_loss: 1.9203 - val_accuracy: 0.4423 - 2s/epoch - 4ms/step\n",
            "Epoch 2/20\n",
            "525/525 - 1s - loss: 1.7386 - accuracy: 0.4624 - val_loss: 1.5732 - val_accuracy: 0.4951 - 1s/epoch - 2ms/step\n",
            "Epoch 3/20\n",
            "525/525 - 1s - loss: 1.4876 - accuracy: 0.5101 - val_loss: 1.4044 - val_accuracy: 0.5292 - 1s/epoch - 2ms/step\n",
            "Epoch 4/20\n",
            "525/525 - 1s - loss: 1.3752 - accuracy: 0.5343 - val_loss: 1.3226 - val_accuracy: 0.5496 - 1s/epoch - 2ms/step\n",
            "Epoch 5/20\n",
            "525/525 - 1s - loss: 1.3083 - accuracy: 0.5511 - val_loss: 1.2682 - val_accuracy: 0.5667 - 1s/epoch - 2ms/step\n",
            "Epoch 6/20\n",
            "525/525 - 1s - loss: 1.2625 - accuracy: 0.5651 - val_loss: 1.2278 - val_accuracy: 0.5769 - 1s/epoch - 2ms/step\n",
            "Epoch 7/20\n",
            "525/525 - 1s - loss: 1.2264 - accuracy: 0.5764 - val_loss: 1.1947 - val_accuracy: 0.5886 - 1s/epoch - 2ms/step\n",
            "Epoch 8/20\n",
            "525/525 - 1s - loss: 1.1956 - accuracy: 0.5907 - val_loss: 1.1672 - val_accuracy: 0.5963 - 1s/epoch - 2ms/step\n",
            "Epoch 9/20\n",
            "525/525 - 1s - loss: 1.1678 - accuracy: 0.6025 - val_loss: 1.1434 - val_accuracy: 0.6198 - 1s/epoch - 2ms/step\n",
            "Epoch 10/20\n",
            "525/525 - 1s - loss: 1.1460 - accuracy: 0.6116 - val_loss: 1.1219 - val_accuracy: 0.6237 - 1s/epoch - 2ms/step\n",
            "Epoch 11/20\n",
            "525/525 - 1s - loss: 1.1272 - accuracy: 0.6143 - val_loss: 1.1025 - val_accuracy: 0.6275 - 1s/epoch - 2ms/step\n",
            "Epoch 12/20\n",
            "525/525 - 1s - loss: 1.1090 - accuracy: 0.6197 - val_loss: 1.0874 - val_accuracy: 0.6294 - 1s/epoch - 2ms/step\n",
            "Epoch 13/20\n",
            "525/525 - 1s - loss: 1.0934 - accuracy: 0.6253 - val_loss: 1.0717 - val_accuracy: 0.6299 - 1s/epoch - 2ms/step\n",
            "Epoch 14/20\n",
            "525/525 - 1s - loss: 1.0787 - accuracy: 0.6279 - val_loss: 1.0591 - val_accuracy: 0.6323 - 1s/epoch - 2ms/step\n",
            "Epoch 15/20\n",
            "525/525 - 1s - loss: 1.0685 - accuracy: 0.6300 - val_loss: 1.0495 - val_accuracy: 0.6346 - 1s/epoch - 2ms/step\n",
            "Epoch 16/20\n",
            "525/525 - 1s - loss: 1.0567 - accuracy: 0.6328 - val_loss: 1.0388 - val_accuracy: 0.6370 - 1s/epoch - 2ms/step\n",
            "Epoch 17/20\n",
            "525/525 - 1s - loss: 1.0458 - accuracy: 0.6338 - val_loss: 1.0303 - val_accuracy: 0.6399 - 1s/epoch - 2ms/step\n",
            "Epoch 18/20\n",
            "525/525 - 1s - loss: 1.0374 - accuracy: 0.6390 - val_loss: 1.0218 - val_accuracy: 0.6404 - 1s/epoch - 2ms/step\n",
            "Epoch 19/20\n",
            "525/525 - 1s - loss: 1.0267 - accuracy: 0.6417 - val_loss: 1.0141 - val_accuracy: 0.6444 - 1s/epoch - 2ms/step\n",
            "Epoch 20/20\n",
            "525/525 - 1s - loss: 1.0211 - accuracy: 0.6447 - val_loss: 1.0068 - val_accuracy: 0.6450 - 1s/epoch - 2ms/step\n"
          ]
        }
      ],
      "source": [
        "history1 = model.fit(X_train, y_train,\n",
        "                     batch_size = 64,\n",
        "                     epochs = 20,\n",
        "                     verbose = 2,\n",
        "                     validation_data=(X_test, y_test))"
      ]
    },
    {
      "cell_type": "code",
      "execution_count": 35,
      "id": "45d6766e",
      "metadata": {
        "colab": {
          "base_uri": "https://localhost:8080/"
        },
        "id": "45d6766e",
        "outputId": "fe9342cd-dd4c-469f-d1e0-ac1cf7be2474"
      },
      "outputs": [
        {
          "output_type": "stream",
          "name": "stdout",
          "text": [
            "263/263 [==============================] - 0s 1ms/step\n"
          ]
        }
      ],
      "source": [
        "y_pred_nn = model.predict(X_test) "
      ]
    },
    {
      "cell_type": "code",
      "source": [
        "# This step is necessary to convert our one hot encoded classes into digits category column.\n",
        "y_pred_nn = pd.DataFrame(y_pred_nn)\n",
        "y_pred_nn = y_pred_nn.idxmax(axis = 1)"
      ],
      "metadata": {
        "id": "aSfW_dWNlr_L"
      },
      "id": "aSfW_dWNlr_L",
      "execution_count": 36,
      "outputs": []
    },
    {
      "cell_type": "code",
      "source": [
        "# Classification report to see the precision of our model. \n",
        "print(classification_report(y_pred_nn,pd.DataFrame(y_test).idxmax(axis = 1))) # We have converted y_test back to its categorical form from one hot encoded obtained from to_categical() function."
      ],
      "metadata": {
        "colab": {
          "base_uri": "https://localhost:8080/"
        },
        "id": "AmJfZr2Lltj9",
        "outputId": "d6b96898-aeda-4d4d-ecad-929b8e6781fe"
      },
      "id": "AmJfZr2Lltj9",
      "execution_count": 37,
      "outputs": [
        {
          "output_type": "stream",
          "name": "stdout",
          "text": [
            "              precision    recall  f1-score   support\n",
            "\n",
            "           0       0.86      0.81      0.83       873\n",
            "           1       0.93      0.79      0.85      1091\n",
            "           2       0.59      0.64      0.62       758\n",
            "           3       0.50      0.61      0.55       704\n",
            "           4       0.46      0.63      0.53       590\n",
            "           5       0.56      0.59      0.57       743\n",
            "           6       0.88      0.85      0.86       866\n",
            "           7       0.71      0.47      0.57      1335\n",
            "           8       0.51      0.58      0.55       718\n",
            "           9       0.41      0.47      0.44       722\n",
            "\n",
            "    accuracy                           0.65      8400\n",
            "   macro avg       0.64      0.64      0.64      8400\n",
            "weighted avg       0.67      0.65      0.65      8400\n",
            "\n"
          ]
        }
      ]
    },
    {
      "cell_type": "code",
      "source": [],
      "metadata": {
        "id": "bEmoi6-Um0nk"
      },
      "id": "bEmoi6-Um0nk",
      "execution_count": null,
      "outputs": []
    }
  ],
  "metadata": {
    "kernelspec": {
      "display_name": "Python 3.7.8 64-bit",
      "language": "python",
      "name": "python3"
    },
    "language_info": {
      "codemirror_mode": {
        "name": "ipython",
        "version": 3
      },
      "file_extension": ".py",
      "mimetype": "text/x-python",
      "name": "python",
      "nbconvert_exporter": "python",
      "pygments_lexer": "ipython3",
      "version": "3.7.8"
    },
    "vscode": {
      "interpreter": {
        "hash": "7b416c2d66c1a5137cd62d6d13406ca3791127b98c2ab7751c9f9871dab6492b"
      }
    },
    "colab": {
      "provenance": [],
      "collapsed_sections": []
    },
    "accelerator": "GPU",
    "gpuClass": "standard"
  },
  "nbformat": 4,
  "nbformat_minor": 5
}